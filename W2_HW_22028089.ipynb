{
 "cells": [
  {
   "cell_type": "code",
   "execution_count": 1,
   "id": "1960f8af-9d85-499e-a0e3-164b65c3b1ef",
   "metadata": {},
   "outputs": [
    {
     "name": "stdout",
     "output_type": "stream",
     "text": [
      "Requirement already satisfied: datascience in /home/arya_wsl/miniconda3/lib/python3.11/site-packages (0.17.6)\n",
      "Requirement already satisfied: folium>=0.9.1 in /home/arya_wsl/miniconda3/lib/python3.11/site-packages (from datascience) (0.19.4)\n",
      "Requirement already satisfied: setuptools in /home/arya_wsl/miniconda3/lib/python3.11/site-packages (from datascience) (75.8.0)\n",
      "Requirement already satisfied: matplotlib>=3.0.0 in /home/arya_wsl/miniconda3/lib/python3.11/site-packages (from datascience) (3.10.0)\n",
      "Requirement already satisfied: pandas in /home/arya_wsl/miniconda3/lib/python3.11/site-packages (from datascience) (2.2.3)\n",
      "Requirement already satisfied: scipy in /home/arya_wsl/miniconda3/lib/python3.11/site-packages (from datascience) (1.15.1)\n",
      "Requirement already satisfied: numpy in /home/arya_wsl/miniconda3/lib/python3.11/site-packages (from datascience) (2.2.2)\n",
      "Requirement already satisfied: ipython in /home/arya_wsl/miniconda3/lib/python3.11/site-packages (from datascience) (8.30.0)\n",
      "Requirement already satisfied: plotly in /home/arya_wsl/miniconda3/lib/python3.11/site-packages (from datascience) (6.0.0)\n",
      "Requirement already satisfied: branca in /home/arya_wsl/miniconda3/lib/python3.11/site-packages (from datascience) (0.8.1)\n",
      "Requirement already satisfied: jinja2>=2.9 in /home/arya_wsl/miniconda3/lib/python3.11/site-packages (from folium>=0.9.1->datascience) (3.1.5)\n",
      "Requirement already satisfied: requests in /home/arya_wsl/miniconda3/lib/python3.11/site-packages (from folium>=0.9.1->datascience) (2.32.3)\n",
      "Requirement already satisfied: xyzservices in /home/arya_wsl/miniconda3/lib/python3.11/site-packages (from folium>=0.9.1->datascience) (2025.1.0)\n",
      "Requirement already satisfied: contourpy>=1.0.1 in /home/arya_wsl/miniconda3/lib/python3.11/site-packages (from matplotlib>=3.0.0->datascience) (1.3.1)\n",
      "Requirement already satisfied: cycler>=0.10 in /home/arya_wsl/miniconda3/lib/python3.11/site-packages (from matplotlib>=3.0.0->datascience) (0.12.1)\n",
      "Requirement already satisfied: fonttools>=4.22.0 in /home/arya_wsl/miniconda3/lib/python3.11/site-packages (from matplotlib>=3.0.0->datascience) (4.56.0)\n",
      "Requirement already satisfied: kiwisolver>=1.3.1 in /home/arya_wsl/miniconda3/lib/python3.11/site-packages (from matplotlib>=3.0.0->datascience) (1.4.8)\n",
      "Requirement already satisfied: packaging>=20.0 in /home/arya_wsl/miniconda3/lib/python3.11/site-packages (from matplotlib>=3.0.0->datascience) (24.2)\n",
      "Requirement already satisfied: pillow>=8 in /home/arya_wsl/miniconda3/lib/python3.11/site-packages (from matplotlib>=3.0.0->datascience) (11.1.0)\n",
      "Requirement already satisfied: pyparsing>=2.3.1 in /home/arya_wsl/miniconda3/lib/python3.11/site-packages (from matplotlib>=3.0.0->datascience) (3.2.1)\n",
      "Requirement already satisfied: python-dateutil>=2.7 in /home/arya_wsl/miniconda3/lib/python3.11/site-packages (from matplotlib>=3.0.0->datascience) (2.9.0.post0)\n",
      "Requirement already satisfied: decorator in /home/arya_wsl/miniconda3/lib/python3.11/site-packages (from ipython->datascience) (5.1.1)\n",
      "Requirement already satisfied: jedi>=0.16 in /home/arya_wsl/miniconda3/lib/python3.11/site-packages (from ipython->datascience) (0.19.2)\n",
      "Requirement already satisfied: matplotlib-inline in /home/arya_wsl/miniconda3/lib/python3.11/site-packages (from ipython->datascience) (0.1.6)\n",
      "Requirement already satisfied: prompt-toolkit<3.1.0,>=3.0.41 in /home/arya_wsl/miniconda3/lib/python3.11/site-packages (from ipython->datascience) (3.0.43)\n",
      "Requirement already satisfied: pygments>=2.4.0 in /home/arya_wsl/miniconda3/lib/python3.11/site-packages (from ipython->datascience) (2.15.1)\n",
      "Requirement already satisfied: stack-data in /home/arya_wsl/miniconda3/lib/python3.11/site-packages (from ipython->datascience) (0.2.0)\n",
      "Requirement already satisfied: traitlets>=5.13.0 in /home/arya_wsl/miniconda3/lib/python3.11/site-packages (from ipython->datascience) (5.14.3)\n",
      "Requirement already satisfied: typing-extensions>=4.6 in /home/arya_wsl/miniconda3/lib/python3.11/site-packages (from ipython->datascience) (4.12.2)\n",
      "Requirement already satisfied: pexpect>4.3 in /home/arya_wsl/miniconda3/lib/python3.11/site-packages (from ipython->datascience) (4.8.0)\n",
      "Requirement already satisfied: pytz>=2020.1 in /home/arya_wsl/miniconda3/lib/python3.11/site-packages (from pandas->datascience) (2025.1)\n",
      "Requirement already satisfied: tzdata>=2022.7 in /home/arya_wsl/miniconda3/lib/python3.11/site-packages (from pandas->datascience) (2025.1)\n",
      "Requirement already satisfied: narwhals>=1.15.1 in /home/arya_wsl/miniconda3/lib/python3.11/site-packages (from plotly->datascience) (1.26.0)\n",
      "Requirement already satisfied: parso<0.9.0,>=0.8.4 in /home/arya_wsl/miniconda3/lib/python3.11/site-packages (from jedi>=0.16->ipython->datascience) (0.8.4)\n",
      "Requirement already satisfied: MarkupSafe>=2.0 in /home/arya_wsl/miniconda3/lib/python3.11/site-packages (from jinja2>=2.9->folium>=0.9.1->datascience) (3.0.2)\n",
      "Requirement already satisfied: ptyprocess>=0.5 in /home/arya_wsl/miniconda3/lib/python3.11/site-packages (from pexpect>4.3->ipython->datascience) (0.7.0)\n",
      "Requirement already satisfied: wcwidth in /home/arya_wsl/miniconda3/lib/python3.11/site-packages (from prompt-toolkit<3.1.0,>=3.0.41->ipython->datascience) (0.2.5)\n",
      "Requirement already satisfied: six>=1.5 in /home/arya_wsl/miniconda3/lib/python3.11/site-packages (from python-dateutil>=2.7->matplotlib>=3.0.0->datascience) (1.16.0)\n",
      "Requirement already satisfied: charset-normalizer<4,>=2 in /home/arya_wsl/miniconda3/lib/python3.11/site-packages (from requests->folium>=0.9.1->datascience) (3.3.2)\n",
      "Requirement already satisfied: idna<4,>=2.5 in /home/arya_wsl/miniconda3/lib/python3.11/site-packages (from requests->folium>=0.9.1->datascience) (3.7)\n",
      "Requirement already satisfied: urllib3<3,>=1.21.1 in /home/arya_wsl/miniconda3/lib/python3.11/site-packages (from requests->folium>=0.9.1->datascience) (2.3.0)\n",
      "Requirement already satisfied: certifi>=2017.4.17 in /home/arya_wsl/miniconda3/lib/python3.11/site-packages (from requests->folium>=0.9.1->datascience) (2025.1.31)\n",
      "Requirement already satisfied: executing in /home/arya_wsl/miniconda3/lib/python3.11/site-packages (from stack-data->ipython->datascience) (0.8.3)\n",
      "Requirement already satisfied: asttokens in /home/arya_wsl/miniconda3/lib/python3.11/site-packages (from stack-data->ipython->datascience) (2.0.5)\n",
      "Requirement already satisfied: pure-eval in /home/arya_wsl/miniconda3/lib/python3.11/site-packages (from stack-data->ipython->datascience) (0.2.2)\n"
     ]
    }
   ],
   "source": [
    "!pip install datascience"
   ]
  },
  {
   "cell_type": "code",
   "execution_count": 2,
   "id": "749b2bdf-832d-4213-9945-70d9a7d8b1ef",
   "metadata": {},
   "outputs": [],
   "source": [
    "\n",
    "import numpy as np\n",
    "from datascience import *\n",
    "import warnings\n",
    "warnings.simplefilter('ignore', FutureWarning)"
   ]
  },
  {
   "cell_type": "code",
   "execution_count": 3,
   "id": "e305fb75-f310-4575-aa9c-6e0b020dcc2c",
   "metadata": {},
   "outputs": [],
   "source": [
    "# question 1"
   ]
  },
  {
   "cell_type": "code",
   "execution_count": 4,
   "id": "21d4c663-a227-47d2-9e94-d327d9bbdff1",
   "metadata": {},
   "outputs": [],
   "source": [
    "import math"
   ]
  },
  {
   "cell_type": "code",
   "execution_count": 5,
   "id": "6b116ce0-8ee5-4ef6-b832-dfe4347946c0",
   "metadata": {},
   "outputs": [
    {
     "data": {
      "text/plain": [
       "[-2, 17, 3, 5064.551864664882]"
      ]
     },
     "execution_count": 5,
     "metadata": {},
     "output_type": "execute_result"
    }
   ],
   "source": [
    "weird_numbers = [-2, math.floor(17.6), 3, math.pow(5,5.3)]\n",
    "weird_numbers"
   ]
  },
  {
   "cell_type": "code",
   "execution_count": 6,
   "id": "a0e7335f-2029-4f24-8b18-385eb998dccf",
   "metadata": {},
   "outputs": [],
   "source": [
    "# question 2"
   ]
  },
  {
   "cell_type": "code",
   "execution_count": 7,
   "id": "8de43f07-4a2a-4af7-a2bc-c64e6e762c11",
   "metadata": {},
   "outputs": [
    {
     "data": {
      "text/plain": [
       "['Eats', 'Shoot', 'and Leaves']"
      ]
     },
     "execution_count": 7,
     "metadata": {},
     "output_type": "execute_result"
    }
   ],
   "source": [
    "book_title_words = [\"Eats\", \"Shoot\", \"and Leaves\"]\n",
    "book_title_words"
   ]
  },
  {
   "cell_type": "code",
   "execution_count": 8,
   "id": "31aa5060-d137-4b81-b7e8-9b31baa4a024",
   "metadata": {},
   "outputs": [],
   "source": [
    "# question 3"
   ]
  },
  {
   "cell_type": "code",
   "execution_count": 9,
   "id": "e5704670-0d6c-4153-967c-67abcca2fb6c",
   "metadata": {},
   "outputs": [
    {
     "name": "stdout",
     "output_type": "stream",
     "text": [
      "with_commas: Eats, Shoot, and Leaves\n",
      "without_commas: Eats Shoot and Leaves\n"
     ]
    }
   ],
   "source": [
    "with_commas = \", \".join(book_title_words)\n",
    "without_commas = \" \".join(book_title_words)\n",
    "\n",
    "# These lines are provided just to print out your answers.\n",
    "print('with_commas:', with_commas)\n",
    "print('without_commas:', without_commas)"
   ]
  },
  {
   "cell_type": "code",
   "execution_count": 10,
   "id": "5f7b3cb4-0d02-4a22-896f-5a4f375b16ef",
   "metadata": {},
   "outputs": [],
   "source": [
    "# part 2 question 1"
   ]
  },
  {
   "cell_type": "code",
   "execution_count": 11,
   "id": "812ec85a-ed89-4590-b991-6c3f7772e10f",
   "metadata": {},
   "outputs": [
    {
     "data": {
      "text/plain": [
       "-6"
      ]
     },
     "execution_count": 11,
     "metadata": {},
     "output_type": "execute_result"
    }
   ],
   "source": [
    "some_numbers = make_array(-1, -3, -6, -10, -15)\n",
    "\n",
    "third_element = some_numbers.item(2)\n",
    "third_element"
   ]
  },
  {
   "cell_type": "code",
   "execution_count": 12,
   "id": "f6d639e9-91ef-491f-b0f6-ce5644f24dbf",
   "metadata": {},
   "outputs": [],
   "source": [
    "# question 2"
   ]
  },
  {
   "cell_type": "code",
   "execution_count": 13,
   "id": "6ddcfc7b-7bc9-4dc2-8452-103c24c16720",
   "metadata": {},
   "outputs": [
    {
     "data": {
      "text/html": [
       "<table border=\"1\" class=\"dataframe\">\n",
       "    <thead>\n",
       "        <tr>\n",
       "            <th>English name for position</th> <th>Index</th> <th>Element</th>\n",
       "        </tr>\n",
       "    </thead>\n",
       "    <tbody>\n",
       "        <tr>\n",
       "            <td>first                    </td> <td>0    </td> <td>-1     </td>\n",
       "        </tr>\n",
       "        <tr>\n",
       "            <td>second                   </td> <td>1    </td> <td>-3     </td>\n",
       "        </tr>\n",
       "        <tr>\n",
       "            <td>third                    </td> <td>2    </td> <td>-6     </td>\n",
       "        </tr>\n",
       "        <tr>\n",
       "            <td>fourth                   </td> <td>3    </td> <td>-10    </td>\n",
       "        </tr>\n",
       "        <tr>\n",
       "            <td>fifth                    </td> <td>4    </td> <td>-15    </td>\n",
       "        </tr>\n",
       "    </tbody>\n",
       "</table>"
      ],
      "text/plain": [
       "English name for position | Index | Element\n",
       "first                     | 0     | -1\n",
       "second                    | 1     | -3\n",
       "third                     | 2     | -6\n",
       "fourth                    | 3     | -10\n",
       "fifth                     | 4     | -15"
      ]
     },
     "execution_count": 13,
     "metadata": {},
     "output_type": "execute_result"
    }
   ],
   "source": [
    "blank_a = \"third\"\n",
    "blank_b = \"fourth\"\n",
    "blank_c = 0\n",
    "blank_d = 3\n",
    "elements_of_some_numbers = Table().with_columns(\n",
    "    \"English name for position\", make_array(\"first\", \"second\", blank_a, blank_b, \"fifth\"),\n",
    "    \"Index\",                     make_array(blank_c, 1, 2, blank_d, 4),\n",
    "    \"Element\",                   some_numbers)\n",
    "elements_of_some_numbers"
   ]
  },
  {
   "cell_type": "code",
   "execution_count": 14,
   "id": "3e4d243d-c8b3-4cc5-964b-24cc9686d8ca",
   "metadata": {},
   "outputs": [],
   "source": [
    "# question 3"
   ]
  },
  {
   "cell_type": "code",
   "execution_count": 15,
   "id": "4b80b2ec-9ff7-4b29-907c-e22356f28903",
   "metadata": {},
   "outputs": [],
   "source": [
    "index_of_last_element = 141"
   ]
  },
  {
   "cell_type": "code",
   "execution_count": 16,
   "id": "bccd7cd7-ab0c-4650-bb21-f5023afe8a01",
   "metadata": {},
   "outputs": [],
   "source": [
    "# question 4"
   ]
  },
  {
   "cell_type": "code",
   "execution_count": 17,
   "id": "060ac040-74c1-4b35-b9a0-9b2f9bc6360e",
   "metadata": {},
   "outputs": [
    {
     "data": {
      "text/plain": [
       "1917"
      ]
     },
     "execution_count": 17,
     "metadata": {},
     "output_type": "execute_result"
    }
   ],
   "source": [
    "president_birth_years = Table.read_table(\"./csv/president_births.csv\").column('Birth Year')\n",
    "\n",
    "most_recent_birth_year = president_birth_years.item(len(president_birth_years)-1)\n",
    "most_recent_birth_year"
   ]
  },
  {
   "cell_type": "code",
   "execution_count": 18,
   "id": "ee8ea1e7-9521-4acf-9408-439cf69a351a",
   "metadata": {},
   "outputs": [],
   "source": [
    "# question 5"
   ]
  },
  {
   "cell_type": "code",
   "execution_count": 19,
   "id": "39cea1fe-8c6d-41c2-aa99-d943db78f5db",
   "metadata": {},
   "outputs": [
    {
     "data": {
      "text/plain": [
       "1732"
      ]
     },
     "execution_count": 19,
     "metadata": {},
     "output_type": "execute_result"
    }
   ],
   "source": [
    "min_of_birth_years = min(president_birth_years.item(0), president_birth_years.item(15), president_birth_years.item(len(president_birth_years)-1))\n",
    "min_of_birth_years"
   ]
  },
  {
   "cell_type": "code",
   "execution_count": 20,
   "id": "61d00448-c823-4ff8-81cd-3ae44c334874",
   "metadata": {},
   "outputs": [],
   "source": [
    "# part 3 question 1"
   ]
  },
  {
   "cell_type": "code",
   "execution_count": 21,
   "id": "294790d9-a3fa-4381-a92f-ca09e3508fb6",
   "metadata": {},
   "outputs": [
    {
     "name": "stdout",
     "output_type": "stream",
     "text": [
      "First Product: 6594\n",
      "Second Product: -663168\n",
      "Third Product: 66603205994\n",
      "Fourth Product: 39250\n"
     ]
    }
   ],
   "source": [
    "first_product = 42*157\n",
    "second_product = -4224*157\n",
    "third_product = 424224242*157\n",
    "fourth_product = 250*157\n",
    "print(\"First Product:\", first_product)\n",
    "print(\"Second Product:\", second_product)\n",
    "print(\"Third Product:\", third_product)\n",
    "print(\"Fourth Product:\", fourth_product)"
   ]
  },
  {
   "cell_type": "code",
   "execution_count": 22,
   "id": "2a6bf74f-385a-461a-ae0f-b72c5f56f0e8",
   "metadata": {},
   "outputs": [],
   "source": [
    "# question 2"
   ]
  },
  {
   "cell_type": "code",
   "execution_count": 23,
   "id": "ec0462c7-8c28-42d6-91eb-fb3c6aa09250",
   "metadata": {},
   "outputs": [
    {
     "data": {
      "text/plain": [
       "array([       6594,     -663168, 66603205994,       39250])"
      ]
     },
     "execution_count": 23,
     "metadata": {},
     "output_type": "execute_result"
    }
   ],
   "source": [
    "numbers = make_array(42,-4224, 424224242, 250)\n",
    "products = numbers*157\n",
    "products"
   ]
  },
  {
   "cell_type": "code",
   "execution_count": 24,
   "id": "f7c20e86-f62b-4cf4-ac0b-6174313d78a5",
   "metadata": {},
   "outputs": [
    {
     "data": {
      "text/plain": [
       "array([       66234,     -6661248, 669001629634,       394250])"
      ]
     },
     "execution_count": 24,
     "metadata": {},
     "output_type": "execute_result"
    }
   ],
   "source": [
    "correct_products = numbers*1577\n",
    "correct_products"
   ]
  },
  {
   "cell_type": "code",
   "execution_count": 25,
   "id": "6a0337b5-84d4-4e60-9e58-d3d300fa759b",
   "metadata": {},
   "outputs": [
    {
     "data": {
      "text/plain": [
       "array([ -4.,  31.,  32., ...,  17.,  23.,  16.])"
      ]
     },
     "execution_count": 25,
     "metadata": {},
     "output_type": "execute_result"
    }
   ],
   "source": [
    "\n",
    "max_temperatures = Table.read_table(\"./csv/temperatures.csv\").column(\"Daily Max Temperature\")\n",
    "\n",
    "max_temperatures_celsius = (max_temperatures-32)*5/9\n",
    "celsius_temps_rounded = np.round(max_temperatures_celsius)\n",
    "celsius_temps_rounded"
   ]
  },
  {
   "cell_type": "code",
   "execution_count": 26,
   "id": "ab91fbed-016f-4211-9ebd-8428f0a53159",
   "metadata": {},
   "outputs": [
    {
     "data": {
      "text/plain": [
       "array([  6.66666667,  10.        ,  12.22222222, ...,  17.22222222,\n",
       "        11.66666667,  11.11111111])"
      ]
     },
     "execution_count": 26,
     "metadata": {},
     "output_type": "execute_result"
    }
   ],
   "source": [
    "min_temperatures = Table.read_table(\"./csv/temperatures.csv\").column(\"Daily Min Temperature\")\n",
    "min_temperatures_celsius = (min_temperatures-32)*5/9\n",
    "\n",
    "celsius_temperature_ranges = max_temperatures_celsius - min_temperatures_celsius\n",
    "celsius_temperature_ranges"
   ]
  },
  {
   "cell_type": "code",
   "execution_count": 27,
   "id": "a2c043db-3990-4dab-b3ba-9558fb9d04c3",
   "metadata": {},
   "outputs": [],
   "source": [
    "# part 4 question 1"
   ]
  },
  {
   "cell_type": "code",
   "execution_count": 28,
   "id": "2eb50269-a3ac-44eb-8961-24b4cded9a23",
   "metadata": {},
   "outputs": [
    {
     "name": "stdout",
     "output_type": "stream",
     "text": [
      "Old Faithful erupts every 43 to 96 minutes and every 70.8970588235 minutes on average.\n"
     ]
    }
   ],
   "source": [
    "waiting_times = Table.read_table('./csv/old_faithful.csv').column('waiting')\n",
    "\n",
    "shortest = min(waiting_times)\n",
    "longest = max(waiting_times)\n",
    "average = np.average(waiting_times)\n",
    "\n",
    "print(\"Old Faithful erupts every\", shortest, \"to\", longest, \"minutes and every\", average, \"minutes on average.\")"
   ]
  },
  {
   "cell_type": "code",
   "execution_count": 29,
   "id": "63ab56ec-d375-4cb7-93b4-4c5b58815a68",
   "metadata": {},
   "outputs": [],
   "source": [
    "# question 2"
   ]
  },
  {
   "cell_type": "code",
   "execution_count": 30,
   "id": "3852526e-e2a7-40f0-b4ce-23b83ce15a58",
   "metadata": {},
   "outputs": [
    {
     "data": {
      "text/plain": [
       "47"
      ]
     },
     "execution_count": 30,
     "metadata": {},
     "output_type": "execute_result"
    }
   ],
   "source": [
    "\n",
    "# np.diff() calculates the difference between subsequent values  \n",
    "# in a NumPy array.\n",
    "differences = np.diff(waiting_times)\n",
    "biggest_decrease = max(differences)\n",
    "biggest_decrease"
   ]
  },
  {
   "cell_type": "code",
   "execution_count": 31,
   "id": "2798c52a-5463-4d0a-86f2-8fe9783b3b71",
   "metadata": {},
   "outputs": [],
   "source": [
    "# question 3"
   ]
  },
  {
   "cell_type": "code",
   "execution_count": 32,
   "id": "b0f29806-5c71-4697-abca-bda51818bcd0",
   "metadata": {},
   "outputs": [
    {
     "data": {
      "text/plain": [
       "718"
      ]
     },
     "execution_count": 32,
     "metadata": {},
     "output_type": "execute_result"
    }
   ],
   "source": [
    "# The following two lines load in our faithful_with_eruption_nums table\n",
    "faithful = Table.read_table('./csv/old_faithful.csv').drop(\"eruptions\")\n",
    "faithful_with_eruption_nums = faithful.with_column(\"eruption number\", np.arange(faithful.num_rows) + 1).select(1, 0)\n",
    "\n",
    "first_nine_waiting_times = faithful_with_eruption_nums.column(\"waiting\")[:10]\n",
    "total_waiting_time_until_tenth = sum(first_nine_waiting_times)\n",
    "total_waiting_time_until_tenth"
   ]
  },
  {
   "cell_type": "code",
   "execution_count": 33,
   "id": "2990382d-66fe-4c64-9afd-e56d56281e92",
   "metadata": {},
   "outputs": [],
   "source": [
    "# question 4"
   ]
  },
  {
   "cell_type": "code",
   "execution_count": 34,
   "id": "b1e9a8f1-98ec-467e-b188-2b16a8801ef9",
   "metadata": {},
   "outputs": [
    {
     "data": {
      "text/plain": [
       "20.520295202952031"
      ]
     },
     "execution_count": 34,
     "metadata": {},
     "output_type": "execute_result"
    }
   ],
   "source": [
    "differences = np.diff(waiting_times)\n",
    "\n",
    "average_error = np.average(np.abs(differences))\n",
    "average_error"
   ]
  },
  {
   "cell_type": "code",
   "execution_count": 35,
   "id": "3302189d-dc84-417f-9dd8-41e32cb28e4f",
   "metadata": {},
   "outputs": [],
   "source": [
    "# part 5 question 1"
   ]
  },
  {
   "cell_type": "code",
   "execution_count": 36,
   "id": "dca8db6f-5af8-4cf6-9db6-95fa076439be",
   "metadata": {},
   "outputs": [
    {
     "data": {
      "text/html": [
       "<table border=\"1\" class=\"dataframe\">\n",
       "    <thead>\n",
       "        <tr>\n",
       "            <th>fruit name</th> <th>amount</th>\n",
       "        </tr>\n",
       "    </thead>\n",
       "    <tbody>\n",
       "        <tr>\n",
       "            <td>apples    </td> <td>4     </td>\n",
       "        </tr>\n",
       "        <tr>\n",
       "            <td>oranges   </td> <td>3     </td>\n",
       "        </tr>\n",
       "        <tr>\n",
       "            <td>pineapples</td> <td>3     </td>\n",
       "        </tr>\n",
       "    </tbody>\n",
       "</table>"
      ],
      "text/plain": [
       "fruit name | amount\n",
       "apples     | 4\n",
       "oranges    | 3\n",
       "pineapples | 3"
      ]
     },
     "execution_count": 36,
     "metadata": {},
     "output_type": "execute_result"
    }
   ],
   "source": [
    "# Our solution uses 1 statement split over 3 lines.\n",
    "fruits = Table().with_columns([\n",
    "        (\"fruit name\", [\"apples\",\"oranges\",\"pineapples\"]),\n",
    "        (\"amount\", [4,3,3])\n",
    "])\n",
    "fruits"
   ]
  },
  {
   "cell_type": "code",
   "execution_count": 37,
   "id": "1d27f960-f77e-4f3e-971f-8c973aefe704",
   "metadata": {},
   "outputs": [],
   "source": [
    "# question 2"
   ]
  },
  {
   "cell_type": "code",
   "execution_count": 38,
   "id": "fbc80e31-7e1f-4906-bcba-030c75ca022c",
   "metadata": {},
   "outputs": [
    {
     "data": {
      "text/html": [
       "<table border=\"1\" class=\"dataframe\">\n",
       "    <thead>\n",
       "        <tr>\n",
       "            <th>box ID</th> <th>fruit name</th> <th>count</th>\n",
       "        </tr>\n",
       "    </thead>\n",
       "    <tbody>\n",
       "        <tr>\n",
       "            <td>53686 </td> <td>kiwi      </td> <td>45   </td>\n",
       "        </tr>\n",
       "        <tr>\n",
       "            <td>57181 </td> <td>strawberry</td> <td>123  </td>\n",
       "        </tr>\n",
       "        <tr>\n",
       "            <td>25274 </td> <td>apple     </td> <td>20   </td>\n",
       "        </tr>\n",
       "        <tr>\n",
       "            <td>48800 </td> <td>orange    </td> <td>35   </td>\n",
       "        </tr>\n",
       "        <tr>\n",
       "            <td>26187 </td> <td>strawberry</td> <td>255  </td>\n",
       "        </tr>\n",
       "        <tr>\n",
       "            <td>57930 </td> <td>grape     </td> <td>517  </td>\n",
       "        </tr>\n",
       "        <tr>\n",
       "            <td>52357 </td> <td>strawberry</td> <td>102  </td>\n",
       "        </tr>\n",
       "        <tr>\n",
       "            <td>43566 </td> <td>peach     </td> <td>40   </td>\n",
       "        </tr>\n",
       "    </tbody>\n",
       "</table>"
      ],
      "text/plain": [
       "box ID | fruit name | count\n",
       "53686  | kiwi       | 45\n",
       "57181  | strawberry | 123\n",
       "25274  | apple      | 20\n",
       "48800  | orange     | 35\n",
       "26187  | strawberry | 255\n",
       "57930  | grape      | 517\n",
       "52357  | strawberry | 102\n",
       "43566  | peach      | 40"
      ]
     },
     "execution_count": 38,
     "metadata": {},
     "output_type": "execute_result"
    }
   ],
   "source": [
    "inventory = Table.read_table(\"./csv/inventory.csv\")\n",
    "inventory"
   ]
  },
  {
   "cell_type": "code",
   "execution_count": 39,
   "id": "9426f5fa-56e8-405d-b7e1-9cb27bd1e7a8",
   "metadata": {},
   "outputs": [],
   "source": [
    "# question 3"
   ]
  },
  {
   "cell_type": "code",
   "execution_count": 40,
   "id": "c63d8da8-05b0-40d7-af87-d66f325d597b",
   "metadata": {},
   "outputs": [
    {
     "data": {
      "text/plain": [
       "False"
      ]
     },
     "execution_count": 40,
     "metadata": {},
     "output_type": "execute_result"
    }
   ],
   "source": [
    "all_different = False\n",
    "all_different"
   ]
  },
  {
   "cell_type": "code",
   "execution_count": 41,
   "id": "4e41c9ac-6dba-483a-bebc-f280a6d998c7",
   "metadata": {},
   "outputs": [],
   "source": [
    "# question 4"
   ]
  },
  {
   "cell_type": "code",
   "execution_count": 42,
   "id": "02e0f1bf-347d-4a1c-bbc4-6b3ea3ad3fe4",
   "metadata": {},
   "outputs": [
    {
     "data": {
      "text/html": [
       "<table border=\"1\" class=\"dataframe\">\n",
       "    <thead>\n",
       "        <tr>\n",
       "            <th>box ID</th> <th>fruit name</th> <th>count sold</th> <th>price per fruit ($)</th>\n",
       "        </tr>\n",
       "    </thead>\n",
       "    <tbody>\n",
       "        <tr>\n",
       "            <td>53686 </td> <td>kiwi      </td> <td>3         </td> <td>0.5                </td>\n",
       "        </tr>\n",
       "        <tr>\n",
       "            <td>57181 </td> <td>strawberry</td> <td>101       </td> <td>0.2                </td>\n",
       "        </tr>\n",
       "        <tr>\n",
       "            <td>25274 </td> <td>apple     </td> <td>0         </td> <td>0.8                </td>\n",
       "        </tr>\n",
       "        <tr>\n",
       "            <td>48800 </td> <td>orange    </td> <td>35        </td> <td>0.6                </td>\n",
       "        </tr>\n",
       "        <tr>\n",
       "            <td>26187 </td> <td>strawberry</td> <td>25        </td> <td>0.15               </td>\n",
       "        </tr>\n",
       "        <tr>\n",
       "            <td>57930 </td> <td>grape     </td> <td>355       </td> <td>0.06               </td>\n",
       "        </tr>\n",
       "        <tr>\n",
       "            <td>52357 </td> <td>strawberry</td> <td>102       </td> <td>0.25               </td>\n",
       "        </tr>\n",
       "        <tr>\n",
       "            <td>43566 </td> <td>peach     </td> <td>17        </td> <td>0.8                </td>\n",
       "        </tr>\n",
       "    </tbody>\n",
       "</table>"
      ],
      "text/plain": [
       "box ID | fruit name | count sold | price per fruit ($)\n",
       "53686  | kiwi       | 3          | 0.5\n",
       "57181  | strawberry | 101        | 0.2\n",
       "25274  | apple      | 0          | 0.8\n",
       "48800  | orange     | 35         | 0.6\n",
       "26187  | strawberry | 25         | 0.15\n",
       "57930  | grape      | 355        | 0.06\n",
       "52357  | strawberry | 102        | 0.25\n",
       "43566  | peach      | 17         | 0.8"
      ]
     },
     "execution_count": 42,
     "metadata": {},
     "output_type": "execute_result"
    }
   ],
   "source": [
    "sales = Table.read_table(\"./csv/sales.csv\")\n",
    "sales"
   ]
  },
  {
   "cell_type": "code",
   "execution_count": 43,
   "id": "02baf1c9-967c-4a40-8ffd-fd35e431dcbe",
   "metadata": {},
   "outputs": [],
   "source": [
    "# question 5"
   ]
  },
  {
   "cell_type": "code",
   "execution_count": 44,
   "id": "e65b1b1d-f8e1-4e4b-8c5f-624405120e18",
   "metadata": {},
   "outputs": [
    {
     "data": {
      "text/plain": [
       "638"
      ]
     },
     "execution_count": 44,
     "metadata": {},
     "output_type": "execute_result"
    }
   ],
   "source": [
    "total_fruits_sold = sum(sales.column(\"count sold\"))\n",
    "total_fruits_sold"
   ]
  },
  {
   "cell_type": "code",
   "execution_count": 48,
   "id": "9b5d7073-e5ec-4d0c-81cb-7d3f81ff563a",
   "metadata": {},
   "outputs": [
    {
     "data": {
      "text/plain": [
       "106.84999999999999"
      ]
     },
     "execution_count": 48,
     "metadata": {},
     "output_type": "execute_result"
    }
   ],
   "source": [
    "total_revenue = sum(sales.column(\"count sold\")*sales.column(\"price per fruit ($)\"))\n",
    "total_revenue"
   ]
  },
  {
   "cell_type": "code",
   "execution_count": 49,
   "id": "95722019-b8d1-4d1a-9009-42b99eb55448",
   "metadata": {},
   "outputs": [
    {
     "data": {
      "text/html": [
       "<table border=\"1\" class=\"dataframe\">\n",
       "    <thead>\n",
       "        <tr>\n",
       "            <th>box ID</th> <th>fruit name</th> <th>count</th>\n",
       "        </tr>\n",
       "    </thead>\n",
       "    <tbody>\n",
       "        <tr>\n",
       "            <td>53686 </td> <td>kiwi      </td> <td>42   </td>\n",
       "        </tr>\n",
       "        <tr>\n",
       "            <td>57181 </td> <td>strawberry</td> <td>22   </td>\n",
       "        </tr>\n",
       "        <tr>\n",
       "            <td>25274 </td> <td>apple     </td> <td>20   </td>\n",
       "        </tr>\n",
       "        <tr>\n",
       "            <td>48800 </td> <td>orange    </td> <td>0    </td>\n",
       "        </tr>\n",
       "        <tr>\n",
       "            <td>26187 </td> <td>strawberry</td> <td>230  </td>\n",
       "        </tr>\n",
       "        <tr>\n",
       "            <td>57930 </td> <td>grape     </td> <td>162  </td>\n",
       "        </tr>\n",
       "        <tr>\n",
       "            <td>52357 </td> <td>strawberry</td> <td>0    </td>\n",
       "        </tr>\n",
       "        <tr>\n",
       "            <td>43566 </td> <td>peach     </td> <td>23   </td>\n",
       "        </tr>\n",
       "    </tbody>\n",
       "</table>"
      ],
      "text/plain": [
       "box ID | fruit name | count\n",
       "53686  | kiwi       | 42\n",
       "57181  | strawberry | 22\n",
       "25274  | apple      | 20\n",
       "48800  | orange     | 0\n",
       "26187  | strawberry | 230\n",
       "57930  | grape      | 162\n",
       "52357  | strawberry | 0\n",
       "43566  | peach      | 23"
      ]
     },
     "execution_count": 49,
     "metadata": {},
     "output_type": "execute_result"
    }
   ],
   "source": [
    "remaining_inventory = inventory.with_column(\"count\", inventory.column(\"count\") -sales.column(\"count sold\"))\n",
    "remaining_inventory"
   ]
  },
  {
   "cell_type": "code",
   "execution_count": null,
   "id": "ee7c29dc-f401-4d10-b076-9e0992cb62a5",
   "metadata": {},
   "outputs": [],
   "source": []
  }
 ],
 "metadata": {
  "kernelspec": {
   "display_name": "Python 3 (ipykernel)",
   "language": "python",
   "name": "python3"
  },
  "language_info": {
   "codemirror_mode": {
    "name": "ipython",
    "version": 3
   },
   "file_extension": ".py",
   "mimetype": "text/x-python",
   "name": "python",
   "nbconvert_exporter": "python",
   "pygments_lexer": "ipython3",
   "version": "3.11.11"
  }
 },
 "nbformat": 4,
 "nbformat_minor": 5
}
