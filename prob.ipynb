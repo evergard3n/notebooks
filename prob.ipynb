{
 "cells": [
  {
   "cell_type": "code",
   "execution_count": 1,
   "id": "4a3f64cc-b48e-45b0-866c-2eba0e0ba5be",
   "metadata": {},
   "outputs": [],
   "source": [
    "import numpy as np\n",
    "%matplotlib inline\n",
    "\n",
    "import matplotlib.pyplot as plt\n",
    "from datascience import Table"
   ]
  },
  {
   "cell_type": "code",
   "execution_count": 2,
   "id": "a067b25e-05f9-47a9-8990-f46b31cf1632",
   "metadata": {},
   "outputs": [
    {
     "name": "stdout",
     "output_type": "stream",
     "text": [
      "['A' 'A' 'B' 'B' 'C' 'C' 'D' 'D']\n"
     ]
    }
   ],
   "source": [
    "people = np.array(['A', 'A', 'B', 'B', 'C', 'C', 'D', 'D'])\n",
    "print(people)"
   ]
  },
  {
   "cell_type": "code",
   "execution_count": 3,
   "id": "491fee82-8410-44bd-aba1-743549dda3df",
   "metadata": {},
   "outputs": [],
   "source": [
    "def count_4(people):\n",
    "    outcomes = np.random.choice(people, 4, replace=False)  # Chọn ngẫu nhiên 4 phần tử không trùng vị trí\n",
    "    return 1 if len(set(outcomes)) == 4 else 0  # Kiểm tra có đủ 4 ký tự khác nhau không\n"
   ]
  },
  {
   "cell_type": "code",
   "execution_count": 4,
   "id": "0d473d68-8a40-4cd7-84b2-f8b10ae03e2c",
   "metadata": {},
   "outputs": [
    {
     "name": "stdout",
     "output_type": "stream",
     "text": [
      "Số lần chọn hợp lệ: 2343 / 10000\n"
     ]
    },
    {
     "name": "stderr",
     "output_type": "stream",
     "text": [
      "/tmp/ipykernel_20180/515531731.py:18: UserWarning: FigureCanvasAgg is non-interactive, and thus cannot be shown\n",
      "  plt.show()\n"
     ]
    }
   ],
   "source": [
    "num_repetitions = 10000\n",
    "\n",
    "moves = np.array([count_4(people) for _ in range(num_repetitions)])\n",
    "\n",
    "count_success = np.sum(moves)\n",
    "count_fail = num_repetitions - count_success  # Số lần thất bại\n",
    "\n",
    "print(\"Số lần chọn hợp lệ:\", count_success, \"/\", num_repetitions)\n",
    "\n",
    "# Vẽ biểu đồ\n",
    "labels = ['Success', 'Fail']\n",
    "values = [count_success, count_fail]\n",
    "\n",
    "plt.bar(labels, values, color=['green', 'red'])\n",
    "plt.xlabel(\"Kết quả\")\n",
    "plt.ylabel(\"Số lần xuất hiện\")\n",
    "plt.title(\"Biểu đồ kết quả chọn ngẫu nhiên 4 ký tự\")\n",
    "plt.show()"
   ]
  },
  {
   "cell_type": "code",
   "execution_count": null,
   "id": "2b523ef0-7eb5-4ee9-b547-fbd8e7d65757",
   "metadata": {},
   "outputs": [],
   "source": []
  },
  {
   "cell_type": "code",
   "execution_count": null,
   "id": "38bc2817-a1ce-4f56-92cb-e40e58f982cc",
   "metadata": {},
   "outputs": [],
   "source": []
  }
 ],
 "metadata": {
  "kernelspec": {
   "display_name": "Python 3 (ipykernel)",
   "language": "python",
   "name": "python3"
  },
  "language_info": {
   "codemirror_mode": {
    "name": "ipython",
    "version": 3
   },
   "file_extension": ".py",
   "mimetype": "text/x-python",
   "name": "python",
   "nbconvert_exporter": "python",
   "pygments_lexer": "ipython3",
   "version": "3.11.11"
  }
 },
 "nbformat": 4,
 "nbformat_minor": 5
}
